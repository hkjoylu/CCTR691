{
 "cells": [
  {
   "cell_type": "markdown",
   "id": "04189aea-2b07-49db-864f-52d6ce71a95d",
   "metadata": {},
   "source": [
    "# My First Notebook\n",
    "## Subheading\n",
    "\n",
    "### Third Header\n",
    "\n",
    "* Bullet\n",
    "    * Second bullet\n",
    "\n",
    "First Athena Lab"
   ]
  },
  {
   "cell_type": "code",
   "execution_count": 1,
   "id": "95b10925-562d-46a6-96ce-7546746b61bb",
   "metadata": {
    "tags": []
   },
   "outputs": [
    {
     "name": "stdout",
     "output_type": "stream",
     "text": [
      "Hello World\n"
     ]
    }
   ],
   "source": [
    "print(\"Hello World\")"
   ]
  },
  {
   "cell_type": "code",
   "execution_count": null,
   "id": "b2cab5a2-4f84-439d-a61f-b6c6b61e8057",
   "metadata": {},
   "outputs": [],
   "source": []
  }
 ],
 "metadata": {
  "kernelspec": {
   "display_name": "Python 3 (ipykernel)",
   "language": "python",
   "name": "python3"
  },
  "language_info": {
   "codemirror_mode": {
    "name": "ipython",
    "version": 3
   },
   "file_extension": ".py",
   "mimetype": "text/x-python",
   "name": "python",
   "nbconvert_exporter": "python",
   "pygments_lexer": "ipython3",
   "version": "3.11.5"
  }
 },
 "nbformat": 4,
 "nbformat_minor": 5
}
